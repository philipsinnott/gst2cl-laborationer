{
 "cells": [
  {
   "cell_type": "markdown",
   "id": "cd7ca6cb-17f9-46a2-b5bc-3d00ab892c39",
   "metadata": {},
   "source": [
    "<h1>Laboration 1 (GST2CL)</h1>"
   ]
  },
  {
   "cell_type": "code",
   "execution_count": 16,
   "id": "422999a3-5f71-47bc-b96f-e93af074cbdb",
   "metadata": {},
   "outputs": [
    {
     "data": {
      "text/html": [
       "'C:/Users/Phili/OneDrive/Högskolan/Årskurs 2/Statistisk analys - GST2CL/Laborationer'"
      ],
      "text/latex": [
       "'C:/Users/Phili/OneDrive/Högskolan/Årskurs 2/Statistisk analys - GST2CL/Laborationer'"
      ],
      "text/markdown": [
       "'C:/Users/Phili/OneDrive/Högskolan/Årskurs 2/Statistisk analys - GST2CL/Laborationer'"
      ],
      "text/plain": [
       "[1] \"C:/Users/Phili/OneDrive/Högskolan/Årskurs 2/Statistisk analys - GST2CL/Laborationer\""
      ]
     },
     "metadata": {},
     "output_type": "display_data"
    }
   ],
   "source": [
    "setwd('C:/Users/Phili/OneDrive/Högskolan/Årskurs 2/Statistisk analys - GST2CL/Laborationer/Laboration 1/')\n",
    "getwd()"
   ]
  },
  {
   "cell_type": "markdown",
   "id": "b241c6f5-9ee5-4077-93f9-5eec27b16fbd",
   "metadata": {},
   "source": [
    "<h2>3.2 Enklare uträkningar</h2>"
   ]
  },
  {
   "cell_type": "code",
   "execution_count": 35,
   "id": "029f1d7b-7725-49de-9817-8bb5c46ae7f0",
   "metadata": {
    "tags": []
   },
   "outputs": [
    {
     "data": {
      "text/html": [
       "9"
      ],
      "text/latex": [
       "9"
      ],
      "text/markdown": [
       "9"
      ],
      "text/plain": [
       "[1] 9"
      ]
     },
     "metadata": {},
     "output_type": "display_data"
    },
    {
     "data": {
      "text/html": [
       "0.25"
      ],
      "text/latex": [
       "0.25"
      ],
      "text/markdown": [
       "0.25"
      ],
      "text/plain": [
       "[1] 0.25"
      ]
     },
     "metadata": {},
     "output_type": "display_data"
    },
    {
     "data": {
      "text/html": [
       "28"
      ],
      "text/latex": [
       "28"
      ],
      "text/markdown": [
       "28"
      ],
      "text/plain": [
       "[1] 28"
      ]
     },
     "metadata": {},
     "output_type": "display_data"
    },
    {
     "data": {
      "text/html": [
       "0"
      ],
      "text/latex": [
       "0"
      ],
      "text/markdown": [
       "0"
      ],
      "text/plain": [
       "[1] 0"
      ]
     },
     "metadata": {},
     "output_type": "display_data"
    }
   ],
   "source": [
    "2+7\n",
    "2/(3+5)\n",
    "sqrt(9)+5^2\n",
    "sin(pi/2)-log(exp(1)) # 0.56570551809 enligt Google?"
   ]
  },
  {
   "cell_type": "markdown",
   "id": "52a5dd13-28d7-44e3-a946-9f15b14464fe",
   "metadata": {},
   "source": [
    "<h2>3.3 Variabler</h2>"
   ]
  },
  {
   "cell_type": "code",
   "execution_count": 32,
   "id": "7691d2ca-6e50-4204-97a9-5e344236da50",
   "metadata": {
    "tags": []
   },
   "outputs": [],
   "source": [
    "x <- 3\n",
    "y <- 4\n",
    "\n",
    "t <- x * y\n",
    "r <- x * y / 2\n",
    "\n",
    "x <- 6\n",
    "t <- x * y\n",
    "r <- x * y / 2\n",
    "\n",
    "tr <- t + r"
   ]
  },
  {
   "cell_type": "markdown",
   "id": "e10eb403-67b0-4011-8bd8-3fdeb65dab0f",
   "metadata": {},
   "source": [
    "<h2>3.4 Text och andra variabler</h2>"
   ]
  },
  {
   "cell_type": "code",
   "execution_count": 42,
   "id": "a7e793b1-6622-42a8-be79-7f603f8d8065",
   "metadata": {
    "tags": []
   },
   "outputs": [
    {
     "data": {
      "text/html": [
       "'Philip Sinnott 20'"
      ],
      "text/latex": [
       "'Philip Sinnott 20'"
      ],
      "text/markdown": [
       "'Philip Sinnott 20'"
      ],
      "text/plain": [
       "[1] \"Philip Sinnott 20\""
      ]
     },
     "metadata": {},
     "output_type": "display_data"
    }
   ],
   "source": [
    "namn <- \"Philip\"\n",
    "efternamn <- \"Sinnott\"\n",
    "ålder <- 20\n",
    "ID <- paste(namn, efternamn, ålder, sep = \" \")\n",
    "ID"
   ]
  },
  {
   "cell_type": "markdown",
   "id": "994d0f05-5d9d-4dbe-affe-278f9a1dfbf9",
   "metadata": {},
   "source": [
    "<h2>3.5 Vektorer</h2>"
   ]
  },
  {
   "cell_type": "code",
   "execution_count": 55,
   "id": "04e15040-1116-4d80-90fc-d0a6c5ee9560",
   "metadata": {
    "tags": []
   },
   "outputs": [
    {
     "data": {
      "text/html": [
       "<ol class=list-inline>\n",
       "\t<li>1</li>\n",
       "\t<li>3</li>\n",
       "\t<li>5</li>\n",
       "\t<li>7</li>\n",
       "</ol>\n"
      ],
      "text/latex": [
       "\\begin{enumerate*}\n",
       "\\item 1\n",
       "\\item 3\n",
       "\\item 5\n",
       "\\item 7\n",
       "\\end{enumerate*}\n"
      ],
      "text/markdown": [
       "1. 1\n",
       "2. 3\n",
       "3. 5\n",
       "4. 7\n",
       "\n",
       "\n"
      ],
      "text/plain": [
       "[1] 1 3 5 7"
      ]
     },
     "metadata": {},
     "output_type": "display_data"
    },
    {
     "data": {
      "text/html": [
       "<ol class=list-inline>\n",
       "\t<li>'hej'</li>\n",
       "\t<li>'hallå'</li>\n",
       "\t<li>'hejsan'</li>\n",
       "\t<li>'tja'</li>\n",
       "</ol>\n"
      ],
      "text/latex": [
       "\\begin{enumerate*}\n",
       "\\item 'hej'\n",
       "\\item 'hallå'\n",
       "\\item 'hejsan'\n",
       "\\item 'tja'\n",
       "\\end{enumerate*}\n"
      ],
      "text/markdown": [
       "1. 'hej'\n",
       "2. 'hallå'\n",
       "3. 'hejsan'\n",
       "4. 'tja'\n",
       "\n",
       "\n"
      ],
      "text/plain": [
       "[1] \"hej\"    \"hallå\"  \"hejsan\" \"tja\"   "
      ]
     },
     "metadata": {},
     "output_type": "display_data"
    },
    {
     "data": {
      "text/html": [
       "<ol class=list-inline>\n",
       "\t<li>TRUE</li>\n",
       "\t<li>FALSE</li>\n",
       "\t<li>FALSE</li>\n",
       "\t<li>TRUE</li>\n",
       "</ol>\n"
      ],
      "text/latex": [
       "\\begin{enumerate*}\n",
       "\\item TRUE\n",
       "\\item FALSE\n",
       "\\item FALSE\n",
       "\\item TRUE\n",
       "\\end{enumerate*}\n"
      ],
      "text/markdown": [
       "1. TRUE\n",
       "2. FALSE\n",
       "3. FALSE\n",
       "4. TRUE\n",
       "\n",
       "\n"
      ],
      "text/plain": [
       "[1]  TRUE FALSE FALSE  TRUE"
      ]
     },
     "metadata": {},
     "output_type": "display_data"
    },
    {
     "data": {
      "text/html": [
       "<ol class=list-inline>\n",
       "\t<li>'hej'</li>\n",
       "\t<li>'2'</li>\n",
       "\t<li>'2.3483'</li>\n",
       "\t<li>'TRUE'</li>\n",
       "</ol>\n"
      ],
      "text/latex": [
       "\\begin{enumerate*}\n",
       "\\item 'hej'\n",
       "\\item '2'\n",
       "\\item '2.3483'\n",
       "\\item 'TRUE'\n",
       "\\end{enumerate*}\n"
      ],
      "text/markdown": [
       "1. 'hej'\n",
       "2. '2'\n",
       "3. '2.3483'\n",
       "4. 'TRUE'\n",
       "\n",
       "\n"
      ],
      "text/plain": [
       "[1] \"hej\"    \"2\"      \"2.3483\" \"TRUE\"  "
      ]
     },
     "metadata": {},
     "output_type": "display_data"
    },
    {
     "data": {
      "text/html": [
       "<ol class=list-inline>\n",
       "\t<li>5</li>\n",
       "\t<li>7</li>\n",
       "\t<li>9</li>\n",
       "</ol>\n"
      ],
      "text/latex": [
       "\\begin{enumerate*}\n",
       "\\item 5\n",
       "\\item 7\n",
       "\\item 9\n",
       "\\end{enumerate*}\n"
      ],
      "text/markdown": [
       "1. 5\n",
       "2. 7\n",
       "3. 9\n",
       "\n",
       "\n"
      ],
      "text/plain": [
       "[1] 5 7 9"
      ]
     },
     "metadata": {},
     "output_type": "display_data"
    },
    {
     "data": {
      "text/html": [
       "<ol class=list-inline>\n",
       "\t<li>2</li>\n",
       "\t<li>4</li>\n",
       "\t<li>6</li>\n",
       "</ol>\n"
      ],
      "text/latex": [
       "\\begin{enumerate*}\n",
       "\\item 2\n",
       "\\item 4\n",
       "\\item 6\n",
       "\\end{enumerate*}\n"
      ],
      "text/markdown": [
       "1. 2\n",
       "2. 4\n",
       "3. 6\n",
       "\n",
       "\n"
      ],
      "text/plain": [
       "[1] 2 4 6"
      ]
     },
     "metadata": {},
     "output_type": "display_data"
    },
    {
     "data": {
      "text/html": [
       "<ol class=list-inline>\n",
       "\t<li>0.5</li>\n",
       "\t<li>1</li>\n",
       "\t<li>1.5</li>\n",
       "</ol>\n"
      ],
      "text/latex": [
       "\\begin{enumerate*}\n",
       "\\item 0.5\n",
       "\\item 1\n",
       "\\item 1.5\n",
       "\\end{enumerate*}\n"
      ],
      "text/markdown": [
       "1. 0.5\n",
       "2. 1\n",
       "3. 1.5\n",
       "\n",
       "\n"
      ],
      "text/plain": [
       "[1] 0.5 1.0 1.5"
      ]
     },
     "metadata": {},
     "output_type": "display_data"
    },
    {
     "data": {
      "text/html": [
       "<ol class=list-inline>\n",
       "\t<li>1</li>\n",
       "\t<li>4</li>\n",
       "\t<li>9</li>\n",
       "</ol>\n"
      ],
      "text/latex": [
       "\\begin{enumerate*}\n",
       "\\item 1\n",
       "\\item 4\n",
       "\\item 9\n",
       "\\end{enumerate*}\n"
      ],
      "text/markdown": [
       "1. 1\n",
       "2. 4\n",
       "3. 9\n",
       "\n",
       "\n"
      ],
      "text/plain": [
       "[1] 1 4 9"
      ]
     },
     "metadata": {},
     "output_type": "display_data"
    },
    {
     "data": {
      "text/html": [
       "<ol class=list-inline>\n",
       "\t<li>1</li>\n",
       "\t<li>0</li>\n",
       "\t<li>1</li>\n",
       "</ol>\n"
      ],
      "text/latex": [
       "\\begin{enumerate*}\n",
       "\\item 1\n",
       "\\item 0\n",
       "\\item 1\n",
       "\\end{enumerate*}\n"
      ],
      "text/markdown": [
       "1. 1\n",
       "2. 0\n",
       "3. 1\n",
       "\n",
       "\n"
      ],
      "text/plain": [
       "[1] 1 0 1"
      ]
     },
     "metadata": {},
     "output_type": "display_data"
    }
   ],
   "source": [
    "int_vektor <- c(1,3,5,7)\n",
    "text_vektor <- c(\"hej\",\"hallå\",\"hejsan\",\"tja\") \n",
    "logiska_vektor<- c(TRUE,F,FALSE,T)\n",
    "blandad_vektor <- c(\"hej\", 2, 2.3483, TRUE) \n",
    "\n",
    "int_vektor\n",
    "text_vektor\n",
    "logiska_vektor\n",
    "blandad_vektor\n",
    "\n",
    "c(1, 2, 3) + c(4, 5, 6)\n",
    "c(1,2,3)*2\n",
    "c(1,2,3)/2\n",
    "c(1,2,3)^2\n",
    "c(1,2,3)%%2"
   ]
  },
  {
   "cell_type": "markdown",
   "id": "f8884979-345a-4363-8f6f-5427762a53a9",
   "metadata": {
    "tags": []
   },
   "source": [
    "<h2>3.6 Vektormanipulering</h2>"
   ]
  },
  {
   "cell_type": "code",
   "execution_count": 69,
   "id": "9a310d4f-135b-49c7-9f33-fc26f09b013c",
   "metadata": {
    "tags": []
   },
   "outputs": [
    {
     "data": {
      "text/html": [
       "<dl class=dl-horizontal>\n",
       "\t<dt>element 1</dt>\n",
       "\t\t<dd>1</dd>\n",
       "\t<dt>element 2</dt>\n",
       "\t\t<dd>3</dd>\n",
       "\t<dt>element 3</dt>\n",
       "\t\t<dd>5</dd>\n",
       "\t<dt>element 4</dt>\n",
       "\t\t<dd>7</dd>\n",
       "</dl>\n"
      ],
      "text/latex": [
       "\\begin{description*}\n",
       "\\item[element 1] 1\n",
       "\\item[element 2] 3\n",
       "\\item[element 3] 5\n",
       "\\item[element 4] 7\n",
       "\\end{description*}\n"
      ],
      "text/markdown": [
       "element 1\n",
       ":   1element 2\n",
       ":   3element 3\n",
       ":   5element 4\n",
       ":   7\n",
       "\n"
      ],
      "text/plain": [
       "element 1 element 2 element 3 element 4 \n",
       "        1         3         5         7 "
      ]
     },
     "metadata": {},
     "output_type": "display_data"
    },
    {
     "data": {
      "text/html": [
       "<strong>element 1:</strong> 1"
      ],
      "text/latex": [
       "\\textbf{element 1:} 1"
      ],
      "text/markdown": [
       "**element 1:** 1"
      ],
      "text/plain": [
       "element 1 \n",
       "        1 "
      ]
     },
     "metadata": {},
     "output_type": "display_data"
    },
    {
     "data": {
      "text/html": [
       "<strong>element 3:</strong> 5"
      ],
      "text/latex": [
       "\\textbf{element 3:} 5"
      ],
      "text/markdown": [
       "**element 3:** 5"
      ],
      "text/plain": [
       "element 3 \n",
       "        5 "
      ]
     },
     "metadata": {},
     "output_type": "display_data"
    },
    {
     "data": {
      "text/html": [
       "<dl class=dl-horizontal>\n",
       "\t<dt>element 1</dt>\n",
       "\t\t<dd>1</dd>\n",
       "\t<dt>element 2</dt>\n",
       "\t\t<dd>3</dd>\n",
       "\t<dt>element 4</dt>\n",
       "\t\t<dd>7</dd>\n",
       "</dl>\n"
      ],
      "text/latex": [
       "\\begin{description*}\n",
       "\\item[element 1] 1\n",
       "\\item[element 2] 3\n",
       "\\item[element 4] 7\n",
       "\\end{description*}\n"
      ],
      "text/markdown": [
       "element 1\n",
       ":   1element 2\n",
       ":   3element 4\n",
       ":   7\n",
       "\n"
      ],
      "text/plain": [
       "element 1 element 2 element 4 \n",
       "        1         3         7 "
      ]
     },
     "metadata": {},
     "output_type": "display_data"
    },
    {
     "data": {
      "text/html": [
       "<dl class=dl-horizontal>\n",
       "\t<dt>element 4</dt>\n",
       "\t\t<dd>7</dd>\n",
       "\t<dt>element 2</dt>\n",
       "\t\t<dd>3</dd>\n",
       "</dl>\n"
      ],
      "text/latex": [
       "\\begin{description*}\n",
       "\\item[element 4] 7\n",
       "\\item[element 2] 3\n",
       "\\end{description*}\n"
      ],
      "text/markdown": [
       "element 4\n",
       ":   7element 2\n",
       ":   3\n",
       "\n"
      ],
      "text/plain": [
       "element 4 element 2 \n",
       "        7         3 "
      ]
     },
     "metadata": {},
     "output_type": "display_data"
    },
    {
     "data": {
      "text/html": [
       "<dl class=dl-horizontal>\n",
       "\t<dt>element 1</dt>\n",
       "\t\t<dd>1</dd>\n",
       "\t<dt>element 2</dt>\n",
       "\t\t<dd>3</dd>\n",
       "\t<dt>element 3</dt>\n",
       "\t\t<dd>5</dd>\n",
       "\t<dt>element 4</dt>\n",
       "\t\t<dd>7</dd>\n",
       "</dl>\n"
      ],
      "text/latex": [
       "\\begin{description*}\n",
       "\\item[element 1] 1\n",
       "\\item[element 2] 3\n",
       "\\item[element 3] 5\n",
       "\\item[element 4] 7\n",
       "\\end{description*}\n"
      ],
      "text/markdown": [
       "element 1\n",
       ":   1element 2\n",
       ":   3element 3\n",
       ":   5element 4\n",
       ":   7\n",
       "\n"
      ],
      "text/plain": [
       "element 1 element 2 element 3 element 4 \n",
       "        1         3         5         7 "
      ]
     },
     "metadata": {},
     "output_type": "display_data"
    },
    {
     "data": {
      "text/html": [
       "<dl class=dl-horizontal>\n",
       "\t<dt>element 2</dt>\n",
       "\t\t<dd>3</dd>\n",
       "\t<dt>element 3</dt>\n",
       "\t\t<dd>5</dd>\n",
       "\t<dt>element 4</dt>\n",
       "\t\t<dd>7</dd>\n",
       "</dl>\n"
      ],
      "text/latex": [
       "\\begin{description*}\n",
       "\\item[element 2] 3\n",
       "\\item[element 3] 5\n",
       "\\item[element 4] 7\n",
       "\\end{description*}\n"
      ],
      "text/markdown": [
       "element 2\n",
       ":   3element 3\n",
       ":   5element 4\n",
       ":   7\n",
       "\n"
      ],
      "text/plain": [
       "element 2 element 3 element 4 \n",
       "        3         5         7 "
      ]
     },
     "metadata": {},
     "output_type": "display_data"
    }
   ],
   "source": [
    "x <- c(1,3,5,7)\n",
    "namn_för_elementen <- c(\"element 1\",\"element 2\",\"element 3\",\"element 4\")\n",
    "names(x) <- namn_för_elementen\n",
    "\n",
    "x\n",
    "\n",
    "# välj ut enstaka element med hakparanteser\n",
    "x[1]\n",
    "# välj ut enstaka element med namn\n",
    "x[\"element 3\"]\n",
    "# välj ut flera element med vektorer\n",
    "x[c(1,2,4)]\n",
    "x[c(\"element 4\", \"element 2\")]\n",
    "# välj ut ett intervall av värden\n",
    "x[1:4]\n",
    "x[2:4]"
   ]
  },
  {
   "cell_type": "markdown",
   "id": "c0a6c117-1bde-41af-af37-9128453e7963",
   "metadata": {},
   "source": [
    "<h2>3.7 Matriser</h2>"
   ]
  },
  {
   "cell_type": "code",
   "execution_count": 72,
   "id": "e52e6591-0314-4866-8259-6814247e27fb",
   "metadata": {
    "collapsed": true,
    "jupyter": {
     "outputs_hidden": true
    },
    "tags": []
   },
   "outputs": [
    {
     "data": {
      "text/html": [
       "<table>\n",
       "<tbody>\n",
       "\t<tr><td>1</td><td>2</td><td>3</td></tr>\n",
       "\t<tr><td>4</td><td>5</td><td>6</td></tr>\n",
       "\t<tr><td>7</td><td>8</td><td>9</td></tr>\n",
       "</tbody>\n",
       "</table>\n"
      ],
      "text/latex": [
       "\\begin{tabular}{lll}\n",
       "\t 1 & 2 & 3\\\\\n",
       "\t 4 & 5 & 6\\\\\n",
       "\t 7 & 8 & 9\\\\\n",
       "\\end{tabular}\n"
      ],
      "text/markdown": [
       "\n",
       "| 1 | 2 | 3 |\n",
       "| 4 | 5 | 6 |\n",
       "| 7 | 8 | 9 |\n",
       "\n"
      ],
      "text/plain": [
       "     [,1] [,2] [,3]\n",
       "[1,] 1    2    3   \n",
       "[2,] 4    5    6   \n",
       "[3,] 7    8    9   "
      ]
     },
     "metadata": {},
     "output_type": "display_data"
    },
    {
     "data": {
      "text/html": [
       "<table>\n",
       "<tbody>\n",
       "\t<tr><td>1</td><td>4</td><td>7</td></tr>\n",
       "\t<tr><td>2</td><td>5</td><td>8</td></tr>\n",
       "\t<tr><td>3</td><td>6</td><td>9</td></tr>\n",
       "</tbody>\n",
       "</table>\n"
      ],
      "text/latex": [
       "\\begin{tabular}{lll}\n",
       "\t 1 & 4 & 7\\\\\n",
       "\t 2 & 5 & 8\\\\\n",
       "\t 3 & 6 & 9\\\\\n",
       "\\end{tabular}\n"
      ],
      "text/markdown": [
       "\n",
       "| 1 | 4 | 7 |\n",
       "| 2 | 5 | 8 |\n",
       "| 3 | 6 | 9 |\n",
       "\n"
      ],
      "text/plain": [
       "     [,1] [,2] [,3]\n",
       "[1,] 1    4    7   \n",
       "[2,] 2    5    8   \n",
       "[3,] 3    6    9   "
      ]
     },
     "metadata": {},
     "output_type": "display_data"
    }
   ],
   "source": [
    "matrix(1:9, nrow = 3, ncol = 3, byrow = TRUE)\n",
    "matrix(1:9, nrow = 3, ncol = 3, byrow = FALSE)"
   ]
  },
  {
   "cell_type": "code",
   "execution_count": 79,
   "id": "5f23a9b9-35a9-491e-8faa-d41e60627a75",
   "metadata": {},
   "outputs": [
    {
     "data": {
      "text/html": [
       "<table>\n",
       "<thead><tr><th></th><th scope=col>kolumn_1</th><th scope=col>kolumn_2</th><th scope=col>kolumn_3</th></tr></thead>\n",
       "<tbody>\n",
       "\t<tr><th scope=row>rad_1</th><td>1</td><td>2</td><td>3</td></tr>\n",
       "\t<tr><th scope=row>rad_2</th><td>4</td><td>5</td><td>6</td></tr>\n",
       "\t<tr><th scope=row>rad_3</th><td>7</td><td>8</td><td>9</td></tr>\n",
       "</tbody>\n",
       "</table>\n"
      ],
      "text/latex": [
       "\\begin{tabular}{r|lll}\n",
       "  & kolumn\\_1 & kolumn\\_2 & kolumn\\_3\\\\\n",
       "\\hline\n",
       "\trad\\_1 & 1 & 2 & 3\\\\\n",
       "\trad\\_2 & 4 & 5 & 6\\\\\n",
       "\trad\\_3 & 7 & 8 & 9\\\\\n",
       "\\end{tabular}\n"
      ],
      "text/markdown": [
       "\n",
       "| <!--/--> | kolumn_1 | kolumn_2 | kolumn_3 |\n",
       "|---|---|---|---|\n",
       "| rad_1 | 1 | 2 | 3 |\n",
       "| rad_2 | 4 | 5 | 6 |\n",
       "| rad_3 | 7 | 8 | 9 |\n",
       "\n"
      ],
      "text/plain": [
       "      kolumn_1 kolumn_2 kolumn_3\n",
       "rad_1 1        2        3       \n",
       "rad_2 4        5        6       \n",
       "rad_3 7        8        9       "
      ]
     },
     "metadata": {},
     "output_type": "display_data"
    },
    {
     "data": {
      "text/html": [
       "5"
      ],
      "text/latex": [
       "5"
      ],
      "text/markdown": [
       "5"
      ],
      "text/plain": [
       "[1] 5"
      ]
     },
     "metadata": {},
     "output_type": "display_data"
    },
    {
     "data": {
      "text/html": [
       "8"
      ],
      "text/latex": [
       "8"
      ],
      "text/markdown": [
       "8"
      ],
      "text/plain": [
       "[1] 8"
      ]
     },
     "metadata": {},
     "output_type": "display_data"
    },
    {
     "data": {
      "text/html": [
       "<dl class=dl-horizontal>\n",
       "\t<dt>rad_1</dt>\n",
       "\t\t<dd>6</dd>\n",
       "\t<dt>rad_2</dt>\n",
       "\t\t<dd>15</dd>\n",
       "\t<dt>rad_3</dt>\n",
       "\t\t<dd>24</dd>\n",
       "</dl>\n"
      ],
      "text/latex": [
       "\\begin{description*}\n",
       "\\item[rad\\textbackslash{}\\_1] 6\n",
       "\\item[rad\\textbackslash{}\\_2] 15\n",
       "\\item[rad\\textbackslash{}\\_3] 24\n",
       "\\end{description*}\n"
      ],
      "text/markdown": [
       "rad_1\n",
       ":   6rad_2\n",
       ":   15rad_3\n",
       ":   24\n",
       "\n"
      ],
      "text/plain": [
       "rad_1 rad_2 rad_3 \n",
       "    6    15    24 "
      ]
     },
     "metadata": {},
     "output_type": "display_data"
    },
    {
     "data": {
      "text/html": [
       "<dl class=dl-horizontal>\n",
       "\t<dt>kolumn_1</dt>\n",
       "\t\t<dd>12</dd>\n",
       "\t<dt>kolumn_2</dt>\n",
       "\t\t<dd>15</dd>\n",
       "\t<dt>kolumn_3</dt>\n",
       "\t\t<dd>18</dd>\n",
       "</dl>\n"
      ],
      "text/latex": [
       "\\begin{description*}\n",
       "\\item[kolumn\\textbackslash{}\\_1] 12\n",
       "\\item[kolumn\\textbackslash{}\\_2] 15\n",
       "\\item[kolumn\\textbackslash{}\\_3] 18\n",
       "\\end{description*}\n"
      ],
      "text/markdown": [
       "kolumn_1\n",
       ":   12kolumn_2\n",
       ":   15kolumn_3\n",
       ":   18\n",
       "\n"
      ],
      "text/plain": [
       "kolumn_1 kolumn_2 kolumn_3 \n",
       "      12       15       18 "
      ]
     },
     "metadata": {},
     "output_type": "display_data"
    }
   ],
   "source": [
    "vår_matris <- matrix(1:9, nrow = 3, ncol = 3, byrow = TRUE)\n",
    " \n",
    "colnames(vår_matris) <- c(\"kolumn_1\", \"kolumn_2\", \"kolumn_3\")\n",
    "rownames(vår_matris) <- c(\"rad_1\", \"rad_2\", \"rad_3\")\n",
    "\n",
    "vår_matris\n",
    "\n",
    "# hämta specifika rader\n",
    "vår_matris[2, 2]\n",
    "vår_matris[\"rad_3\", \"kolumn_2\"]\n",
    "\n",
    "# matrisoperationer\n",
    "rowSums(vår_matris)\n",
    "colSums(vår_matris)"
   ]
  },
  {
   "cell_type": "markdown",
   "id": "ba880070-ce83-4571-8eab-694b5739e216",
   "metadata": {},
   "source": [
    "<h2>3.8 Data frames</h2>"
   ]
  },
  {
   "cell_type": "markdown",
   "id": "6c3f5409-ae68-4ef9-8da7-8fd96a3bc074",
   "metadata": {},
   "source": [
    "<p>\n",
    "Vi tittade kort på matriser, problemet med att använda endast matriser för att representera \n",
    "data är att matriser endast tillåter samma typ av data i dess element, alltså ingen blandning \n",
    "av exempelvis text, faktorer, numeriska värden etc. Det skapar problem då man ofta vill \n",
    "titta på olika saker samtidigt utan att behöva dela upp detta i flera matriser. \n",
    "    <b>I data frames så kan vi ange olika datatyper i kolumnerna till skillnad från en matris.</b>\n",
    "</p>"
   ]
  },
  {
   "cell_type": "markdown",
   "id": "08fd378e-30d8-4af1-a0ad-8c44390e2945",
   "metadata": {},
   "source": [
    "<h2>3.8.1 Skapa och läsa in datafiler som data frames</h2>"
   ]
  },
  {
   "cell_type": "code",
   "execution_count": 94,
   "id": "148396ec-13d9-49d8-9dd8-1f3ed923209b",
   "metadata": {},
   "outputs": [
    {
     "data": {
      "text/html": [
       "<ol class=list-inline>\n",
       "\t<li>75</li>\n",
       "\t<li>82</li>\n",
       "\t<li>88</li>\n",
       "</ol>\n"
      ],
      "text/latex": [
       "\\begin{enumerate*}\n",
       "\\item 75\n",
       "\\item 82\n",
       "\\item 88\n",
       "\\end{enumerate*}\n"
      ],
      "text/markdown": [
       "1. 75\n",
       "2. 82\n",
       "3. 88\n",
       "\n",
       "\n"
      ],
      "text/plain": [
       "[1] 75 82 88"
      ]
     },
     "metadata": {},
     "output_type": "display_data"
    }
   ],
   "source": [
    "langd <- c(180,175,190)\n",
    "vikt <- c(75,82,88); \n",
    "namn <- c(\"Adam\",\"Bertil\",\"Cesar\") \n",
    "friends <- data.frame(namn,langd,vikt)\n",
    "df_mina.namn <- friends$vikt\n",
    "df_mina.namn"
   ]
  },
  {
   "cell_type": "code",
   "execution_count": 111,
   "id": "5f1c3ef8-0cff-44f4-b7d3-c22cf38f4d22",
   "metadata": {
    "tags": []
   },
   "outputs": [
    {
     "data": {
      "text/html": [
       "<ol class=list-inline>\n",
       "\t<li>Man</li>\n",
       "\t<li>Man</li>\n",
       "\t<li>Kvinna</li>\n",
       "\t<li>Kvinna</li>\n",
       "\t<li>Kvinna</li>\n",
       "\t<li>Man</li>\n",
       "</ol>\n",
       "\n",
       "<details>\n",
       "\t<summary style=display:list-item;cursor:pointer>\n",
       "\t\t<strong>Levels</strong>:\n",
       "\t</summary>\n",
       "\t<ol class=list-inline>\n",
       "\t\t<li>'Man'</li>\n",
       "\t\t<li>'Kvinna'</li>\n",
       "\t</ol>\n",
       "</details>"
      ],
      "text/latex": [
       "\\begin{enumerate*}\n",
       "\\item Man\n",
       "\\item Man\n",
       "\\item Kvinna\n",
       "\\item Kvinna\n",
       "\\item Kvinna\n",
       "\\item Man\n",
       "\\end{enumerate*}\n",
       "\n",
       "\\emph{Levels}: \\begin{enumerate*}\n",
       "\\item 'Man'\n",
       "\\item 'Kvinna'\n",
       "\\end{enumerate*}\n"
      ],
      "text/markdown": [
       "1. Man\n",
       "2. Man\n",
       "3. Kvinna\n",
       "4. Kvinna\n",
       "5. Kvinna\n",
       "6. Man\n",
       "\n",
       "\n",
       "\n",
       "**Levels**: 1. 'Man'\n",
       "2. 'Kvinna'\n",
       "\n",
       "\n"
      ],
      "text/plain": [
       "[1] Man    Man    Kvinna Kvinna Kvinna Man   \n",
       "Levels: Man Kvinna"
      ]
     },
     "metadata": {},
     "output_type": "display_data"
    },
    {
     "data": {
      "text/html": [
       "<table>\n",
       "<thead><tr><th scope=col>Namn</th><th scope=col>Kön</th><th scope=col>Ålder</th><th scope=col>Poäng</th><th scope=col>Termin</th><th scope=col>stringAsFactors</th><th scope=col>Ptermin</th></tr></thead>\n",
       "<tbody>\n",
       "\t<tr><td>Lasse </td><td>Man   </td><td>23    </td><td>112.5 </td><td>4     </td><td>FALSE </td><td>28.125</td></tr>\n",
       "\t<tr><td>Bosse </td><td>Man   </td><td>20    </td><td> 45.0 </td><td>2     </td><td>FALSE </td><td>22.500</td></tr>\n",
       "\t<tr><td>Lisa  </td><td>Kvinna</td><td>19    </td><td> 30.0 </td><td>1     </td><td>FALSE </td><td>30.000</td></tr>\n",
       "\t<tr><td>Anna  </td><td>Kvinna</td><td>24    </td><td> 52.5 </td><td>2     </td><td>FALSE </td><td>26.250</td></tr>\n",
       "\t<tr><td>Britta</td><td>Kvinna</td><td>25    </td><td>270.0 </td><td>6     </td><td>FALSE </td><td>45.000</td></tr>\n",
       "\t<tr><td>Olle  </td><td>Man   </td><td>27    </td><td>300.0 </td><td>8     </td><td>FALSE </td><td>37.500</td></tr>\n",
       "</tbody>\n",
       "</table>\n"
      ],
      "text/latex": [
       "\\begin{tabular}{r|lllllll}\n",
       " Namn & Kön & Ålder & Poäng & Termin & stringAsFactors & Ptermin\\\\\n",
       "\\hline\n",
       "\t Lasse  & Man    & 23     & 112.5  & 4      & FALSE  & 28.125\\\\\n",
       "\t Bosse  & Man    & 20     &  45.0  & 2      & FALSE  & 22.500\\\\\n",
       "\t Lisa   & Kvinna & 19     &  30.0  & 1      & FALSE  & 30.000\\\\\n",
       "\t Anna   & Kvinna & 24     &  52.5  & 2      & FALSE  & 26.250\\\\\n",
       "\t Britta & Kvinna & 25     & 270.0  & 6      & FALSE  & 45.000\\\\\n",
       "\t Olle   & Man    & 27     & 300.0  & 8      & FALSE  & 37.500\\\\\n",
       "\\end{tabular}\n"
      ],
      "text/markdown": [
       "\n",
       "| Namn | Kön | Ålder | Poäng | Termin | stringAsFactors | Ptermin |\n",
       "|---|---|---|---|---|---|---|\n",
       "| Lasse  | Man    | 23     | 112.5  | 4      | FALSE  | 28.125 |\n",
       "| Bosse  | Man    | 20     |  45.0  | 2      | FALSE  | 22.500 |\n",
       "| Lisa   | Kvinna | 19     |  30.0  | 1      | FALSE  | 30.000 |\n",
       "| Anna   | Kvinna | 24     |  52.5  | 2      | FALSE  | 26.250 |\n",
       "| Britta | Kvinna | 25     | 270.0  | 6      | FALSE  | 45.000 |\n",
       "| Olle   | Man    | 27     | 300.0  | 8      | FALSE  | 37.500 |\n",
       "\n"
      ],
      "text/plain": [
       "  Namn   Kön    Ålder Poäng Termin stringAsFactors Ptermin\n",
       "1 Lasse  Man    23    112.5 4      FALSE           28.125 \n",
       "2 Bosse  Man    20     45.0 2      FALSE           22.500 \n",
       "3 Lisa   Kvinna 19     30.0 1      FALSE           30.000 \n",
       "4 Anna   Kvinna 24     52.5 2      FALSE           26.250 \n",
       "5 Britta Kvinna 25    270.0 6      FALSE           45.000 \n",
       "6 Olle   Man    27    300.0 8      FALSE           37.500 "
      ]
     },
     "metadata": {},
     "output_type": "display_data"
    },
    {
     "data": {
      "text/plain": [
       "\n",
       "   Man Kvinna \n",
       "     3      3 "
      ]
     },
     "metadata": {},
     "output_type": "display_data"
    },
    {
     "data": {
      "text/plain": [
       "\n",
       "   Man Kvinna \n",
       "   0.5    0.5 "
      ]
     },
     "metadata": {},
     "output_type": "display_data"
    },
    {
     "data": {
      "text/html": [
       "<table>\n",
       "<thead><tr><th></th><th scope=col>antal</th><th scope=col>andel</th></tr></thead>\n",
       "<tbody>\n",
       "\t<tr><th scope=row>Man</th><td>3  </td><td>0.5</td></tr>\n",
       "\t<tr><th scope=row>Kvinna</th><td>3  </td><td>0.5</td></tr>\n",
       "</tbody>\n",
       "</table>\n"
      ],
      "text/latex": [
       "\\begin{tabular}{r|ll}\n",
       "  & antal & andel\\\\\n",
       "\\hline\n",
       "\tMan & 3   & 0.5\\\\\n",
       "\tKvinna & 3   & 0.5\\\\\n",
       "\\end{tabular}\n"
      ],
      "text/markdown": [
       "\n",
       "| <!--/--> | antal | andel |\n",
       "|---|---|---|\n",
       "| Man | 3   | 0.5 |\n",
       "| Kvinna | 3   | 0.5 |\n",
       "\n"
      ],
      "text/plain": [
       "       antal andel\n",
       "Man    3     0.5  \n",
       "Kvinna 3     0.5  "
      ]
     },
     "metadata": {},
     "output_type": "display_data"
    },
    {
     "data": {
      "text/plain": [
       "     Namn       Kön        Ålder           Poäng            Termin     \n",
       " Anna  :1   Man   :3   Min.   :19.00   Min.   : 30.00   Min.   :1.000  \n",
       " Bosse :1   Kvinna:3   1st Qu.:20.75   1st Qu.: 46.88   1st Qu.:2.000  \n",
       " Britta:1              Median :23.50   Median : 82.50   Median :3.000  \n",
       " Lasse :1              Mean   :23.00   Mean   :135.00   Mean   :3.833  \n",
       " Lisa  :1              3rd Qu.:24.75   3rd Qu.:230.62   3rd Qu.:5.500  \n",
       " Olle  :1              Max.   :27.00   Max.   :300.00   Max.   :8.000  \n",
       " stringAsFactors    Ptermin     \n",
       " Mode :logical   Min.   :22.50  \n",
       " FALSE:6         1st Qu.:26.72  \n",
       "                 Median :29.06  \n",
       "                 Mean   :31.56  \n",
       "                 3rd Qu.:35.62  \n",
       "                 Max.   :45.00  "
      ]
     },
     "metadata": {},
     "output_type": "display_data"
    }
   ],
   "source": [
    "st20 <- data.frame(Namn = c(\"Lasse\", \"Bosse\", \"Lisa\", \"Anna\", \"Britta\", \"Olle\"),\n",
    "                    Kön = c(1, 1, 2, 2, 2, 1), \n",
    "                    Ålder = c(23, 20, 19, 24, 25, 27), \n",
    "                    Poäng = c(112.5, 45, 30, 52.5, 270, 300), \n",
    "                    Termin = c(4,2,1,2,6,8), stringAsFactors = FALSE)\n",
    "\n",
    "# Gör om 1 och 2 till Man och Kvinna\n",
    "(st20$Kön <- factor(st20$Kön, labels = c(\"Man\", \"Kvinna\")))\n",
    "\n",
    "# Lägg in en ny kolumn som visar genomsnittligt poäng per termin bland studenterna\n",
    "st20$Ptermin <- st20$Poäng / st20$Termin\n",
    "\n",
    "# Visa df\n",
    "st20\n",
    "\n",
    "# Frekvenstabell (absoluta frekvenserna, d.v.s. hur många av varje kön det är)\n",
    "table(st20$Kön)\n",
    "\n",
    "antal <- table(st20$Kön)\n",
    "andel <- prop.table(antal)\n",
    "andel\n",
    "\n",
    "# Sammanställ tabellerna till en\n",
    "cbind(antal, andel)\n",
    "\n",
    "summary(st20)"
   ]
  },
  {
   "cell_type": "code",
   "execution_count": 123,
   "id": "9ee936a0-2c93-4ac3-9901-2b95f7066ee3",
   "metadata": {},
   "outputs": [
    {
     "data": {
      "text/html": [
       "<table>\n",
       "<thead><tr><th></th><th scope=col>medelv</th><th scope=col>stdavv</th></tr></thead>\n",
       "<tbody>\n",
       "\t<tr><th scope=row>Ålder</th><td> 23.000000</td><td>  9.123491</td></tr>\n",
       "\t<tr><th scope=row>Poäng</th><td>135.000000</td><td>120.767634</td></tr>\n",
       "\t<tr><th scope=row>Termin</th><td>  3.833333</td><td>  2.870208</td></tr>\n",
       "\t<tr><th scope=row>Ptermin</th><td> 31.562500</td><td>  0.000000</td></tr>\n",
       "</tbody>\n",
       "</table>\n"
      ],
      "text/latex": [
       "\\begin{tabular}{r|ll}\n",
       "  & medelv & stdavv\\\\\n",
       "\\hline\n",
       "\tÅlder &  23.000000 &   9.123491\\\\\n",
       "\tPoäng & 135.000000 & 120.767634\\\\\n",
       "\tTermin &   3.833333 &   2.870208\\\\\n",
       "\tPtermin &  31.562500 &   0.000000\\\\\n",
       "\\end{tabular}\n"
      ],
      "text/markdown": [
       "\n",
       "| <!--/--> | medelv | stdavv |\n",
       "|---|---|---|\n",
       "| Ålder |  23.000000 |   9.123491 |\n",
       "| Poäng | 135.000000 | 120.767634 |\n",
       "| Termin |   3.833333 |   2.870208 |\n",
       "| Ptermin |  31.562500 |   0.000000 |\n",
       "\n"
      ],
      "text/plain": [
       "        medelv     stdavv    \n",
       "Ålder    23.000000   9.123491\n",
       "Poäng   135.000000 120.767634\n",
       "Termin    3.833333   2.870208\n",
       "Ptermin  31.562500   0.000000"
      ]
     },
     "metadata": {},
     "output_type": "display_data"
    }
   ],
   "source": [
    "medelv <- colMeans(st20[,c(\"Ålder\",\"Poäng\",\"Termin\",\"Ptermin\")]) \n",
    "stdavv <- sqrt((colSums(st20[,3:6]^2)-colSums(st20[,3:6])^2/7)/6) \n",
    "cbind(medelv, stdavv)"
   ]
  },
  {
   "cell_type": "markdown",
   "id": "38e9de21-3244-4c04-95db-330100816635",
   "metadata": {
    "tags": []
   },
   "source": [
    "<h2>3.8.2 Läsa in data frames som är inbyggda i R</h2>"
   ]
  },
  {
   "cell_type": "code",
   "execution_count": 125,
   "id": "674e2775-f894-473a-a044-6e8b7b5d0485",
   "metadata": {
    "tags": []
   },
   "outputs": [
    {
     "data": {
      "text/plain": [
       "      mpg             cyl             disp             hp       \n",
       " Min.   :10.40   Min.   :4.000   Min.   : 71.1   Min.   : 52.0  \n",
       " 1st Qu.:15.43   1st Qu.:4.000   1st Qu.:120.8   1st Qu.: 96.5  \n",
       " Median :19.20   Median :6.000   Median :196.3   Median :123.0  \n",
       " Mean   :20.09   Mean   :6.188   Mean   :230.7   Mean   :146.7  \n",
       " 3rd Qu.:22.80   3rd Qu.:8.000   3rd Qu.:326.0   3rd Qu.:180.0  \n",
       " Max.   :33.90   Max.   :8.000   Max.   :472.0   Max.   :335.0  \n",
       "      drat             wt             qsec             vs        \n",
       " Min.   :2.760   Min.   :1.513   Min.   :14.50   Min.   :0.0000  \n",
       " 1st Qu.:3.080   1st Qu.:2.581   1st Qu.:16.89   1st Qu.:0.0000  \n",
       " Median :3.695   Median :3.325   Median :17.71   Median :0.0000  \n",
       " Mean   :3.597   Mean   :3.217   Mean   :17.85   Mean   :0.4375  \n",
       " 3rd Qu.:3.920   3rd Qu.:3.610   3rd Qu.:18.90   3rd Qu.:1.0000  \n",
       " Max.   :4.930   Max.   :5.424   Max.   :22.90   Max.   :1.0000  \n",
       "       am              gear            carb      \n",
       " Min.   :0.0000   Min.   :3.000   Min.   :1.000  \n",
       " 1st Qu.:0.0000   1st Qu.:3.000   1st Qu.:2.000  \n",
       " Median :0.0000   Median :4.000   Median :2.000  \n",
       " Mean   :0.4062   Mean   :3.688   Mean   :2.812  \n",
       " 3rd Qu.:1.0000   3rd Qu.:4.000   3rd Qu.:4.000  \n",
       " Max.   :1.0000   Max.   :5.000   Max.   :8.000  "
      ]
     },
     "metadata": {},
     "output_type": "display_data"
    },
    {
     "data": {
      "text/html": [
       "<table>\n",
       "<thead><tr><th></th><th scope=col>mpg</th><th scope=col>cyl</th><th scope=col>disp</th><th scope=col>hp</th><th scope=col>drat</th><th scope=col>wt</th><th scope=col>qsec</th><th scope=col>vs</th><th scope=col>am</th><th scope=col>gear</th><th scope=col>carb</th></tr></thead>\n",
       "<tbody>\n",
       "\t<tr><th scope=row>Mazda RX4</th><td>21.0 </td><td>6    </td><td>160  </td><td>110  </td><td>3.90 </td><td>2.620</td><td>16.46</td><td>0    </td><td>1    </td><td>4    </td><td>4    </td></tr>\n",
       "\t<tr><th scope=row>Mazda RX4 Wag</th><td>21.0 </td><td>6    </td><td>160  </td><td>110  </td><td>3.90 </td><td>2.875</td><td>17.02</td><td>0    </td><td>1    </td><td>4    </td><td>4    </td></tr>\n",
       "\t<tr><th scope=row>Datsun 710</th><td>22.8 </td><td>4    </td><td>108  </td><td> 93  </td><td>3.85 </td><td>2.320</td><td>18.61</td><td>1    </td><td>1    </td><td>4    </td><td>1    </td></tr>\n",
       "\t<tr><th scope=row>Hornet 4 Drive</th><td>21.4 </td><td>6    </td><td>258  </td><td>110  </td><td>3.08 </td><td>3.215</td><td>19.44</td><td>1    </td><td>0    </td><td>3    </td><td>1    </td></tr>\n",
       "\t<tr><th scope=row>Hornet Sportabout</th><td>18.7 </td><td>8    </td><td>360  </td><td>175  </td><td>3.15 </td><td>3.440</td><td>17.02</td><td>0    </td><td>0    </td><td>3    </td><td>2    </td></tr>\n",
       "</tbody>\n",
       "</table>\n"
      ],
      "text/latex": [
       "\\begin{tabular}{r|lllllllllll}\n",
       "  & mpg & cyl & disp & hp & drat & wt & qsec & vs & am & gear & carb\\\\\n",
       "\\hline\n",
       "\tMazda RX4 & 21.0  & 6     & 160   & 110   & 3.90  & 2.620 & 16.46 & 0     & 1     & 4     & 4    \\\\\n",
       "\tMazda RX4 Wag & 21.0  & 6     & 160   & 110   & 3.90  & 2.875 & 17.02 & 0     & 1     & 4     & 4    \\\\\n",
       "\tDatsun 710 & 22.8  & 4     & 108   &  93   & 3.85  & 2.320 & 18.61 & 1     & 1     & 4     & 1    \\\\\n",
       "\tHornet 4 Drive & 21.4  & 6     & 258   & 110   & 3.08  & 3.215 & 19.44 & 1     & 0     & 3     & 1    \\\\\n",
       "\tHornet Sportabout & 18.7  & 8     & 360   & 175   & 3.15  & 3.440 & 17.02 & 0     & 0     & 3     & 2    \\\\\n",
       "\\end{tabular}\n"
      ],
      "text/markdown": [
       "\n",
       "| <!--/--> | mpg | cyl | disp | hp | drat | wt | qsec | vs | am | gear | carb |\n",
       "|---|---|---|---|---|---|---|---|---|---|---|---|\n",
       "| Mazda RX4 | 21.0  | 6     | 160   | 110   | 3.90  | 2.620 | 16.46 | 0     | 1     | 4     | 4     |\n",
       "| Mazda RX4 Wag | 21.0  | 6     | 160   | 110   | 3.90  | 2.875 | 17.02 | 0     | 1     | 4     | 4     |\n",
       "| Datsun 710 | 22.8  | 4     | 108   |  93   | 3.85  | 2.320 | 18.61 | 1     | 1     | 4     | 1     |\n",
       "| Hornet 4 Drive | 21.4  | 6     | 258   | 110   | 3.08  | 3.215 | 19.44 | 1     | 0     | 3     | 1     |\n",
       "| Hornet Sportabout | 18.7  | 8     | 360   | 175   | 3.15  | 3.440 | 17.02 | 0     | 0     | 3     | 2     |\n",
       "\n"
      ],
      "text/plain": [
       "                  mpg  cyl disp hp  drat wt    qsec  vs am gear carb\n",
       "Mazda RX4         21.0 6   160  110 3.90 2.620 16.46 0  1  4    4   \n",
       "Mazda RX4 Wag     21.0 6   160  110 3.90 2.875 17.02 0  1  4    4   \n",
       "Datsun 710        22.8 4   108   93 3.85 2.320 18.61 1  1  4    1   \n",
       "Hornet 4 Drive    21.4 6   258  110 3.08 3.215 19.44 1  0  3    1   \n",
       "Hornet Sportabout 18.7 8   360  175 3.15 3.440 17.02 0  0  3    2   "
      ]
     },
     "metadata": {},
     "output_type": "display_data"
    },
    {
     "name": "stdout",
     "output_type": "stream",
     "text": [
      "'data.frame':\t32 obs. of  11 variables:\n",
      " $ mpg : num  21 21 22.8 21.4 18.7 18.1 14.3 24.4 22.8 19.2 ...\n",
      " $ cyl : num  6 6 4 6 8 6 8 4 4 6 ...\n",
      " $ disp: num  160 160 108 258 360 ...\n",
      " $ hp  : num  110 110 93 110 175 105 245 62 95 123 ...\n",
      " $ drat: num  3.9 3.9 3.85 3.08 3.15 2.76 3.21 3.69 3.92 3.92 ...\n",
      " $ wt  : num  2.62 2.88 2.32 3.21 3.44 ...\n",
      " $ qsec: num  16.5 17 18.6 19.4 17 ...\n",
      " $ vs  : num  0 0 1 1 0 1 0 1 1 1 ...\n",
      " $ am  : num  1 1 1 0 0 0 0 0 0 0 ...\n",
      " $ gear: num  4 4 4 3 3 3 3 4 4 4 ...\n",
      " $ carb: num  4 4 1 1 2 1 4 2 2 4 ...\n"
     ]
    },
    {
     "data": {
      "text/html": [
       "<ol class=list-inline>\n",
       "\t<li>8</li>\n",
       "\t<li>6</li>\n",
       "\t<li>8</li>\n",
       "\t<li>4</li>\n",
       "\t<li>4</li>\n",
       "\t<li>6</li>\n",
       "</ol>\n"
      ],
      "text/latex": [
       "\\begin{enumerate*}\n",
       "\\item 8\n",
       "\\item 6\n",
       "\\item 8\n",
       "\\item 4\n",
       "\\item 4\n",
       "\\item 6\n",
       "\\end{enumerate*}\n"
      ],
      "text/markdown": [
       "1. 8\n",
       "2. 6\n",
       "3. 8\n",
       "4. 4\n",
       "5. 4\n",
       "6. 6\n",
       "\n",
       "\n"
      ],
      "text/plain": [
       "[1] 8 6 8 4 4 6"
      ]
     },
     "metadata": {},
     "output_type": "display_data"
    },
    {
     "data": {
      "text/html": [
       "<ol class=list-inline>\n",
       "\t<li>6</li>\n",
       "\t<li>6</li>\n",
       "\t<li>6</li>\n",
       "\t<li>8</li>\n",
       "\t<li>6</li>\n",
       "\t<li>8</li>\n",
       "\t<li>6</li>\n",
       "\t<li>6</li>\n",
       "\t<li>8</li>\n",
       "\t<li>8</li>\n",
       "\t<li>8</li>\n",
       "\t<li>8</li>\n",
       "\t<li>8</li>\n",
       "\t<li>8</li>\n",
       "\t<li>8</li>\n",
       "\t<li>8</li>\n",
       "\t<li>8</li>\n",
       "\t<li>8</li>\n",
       "\t<li>8</li>\n",
       "\t<li>6</li>\n",
       "\t<li>8</li>\n",
       "</ol>\n"
      ],
      "text/latex": [
       "\\begin{enumerate*}\n",
       "\\item 6\n",
       "\\item 6\n",
       "\\item 6\n",
       "\\item 8\n",
       "\\item 6\n",
       "\\item 8\n",
       "\\item 6\n",
       "\\item 6\n",
       "\\item 8\n",
       "\\item 8\n",
       "\\item 8\n",
       "\\item 8\n",
       "\\item 8\n",
       "\\item 8\n",
       "\\item 8\n",
       "\\item 8\n",
       "\\item 8\n",
       "\\item 8\n",
       "\\item 8\n",
       "\\item 6\n",
       "\\item 8\n",
       "\\end{enumerate*}\n"
      ],
      "text/markdown": [
       "1. 6\n",
       "2. 6\n",
       "3. 6\n",
       "4. 8\n",
       "5. 6\n",
       "6. 8\n",
       "7. 6\n",
       "8. 6\n",
       "9. 8\n",
       "10. 8\n",
       "11. 8\n",
       "12. 8\n",
       "13. 8\n",
       "14. 8\n",
       "15. 8\n",
       "16. 8\n",
       "17. 8\n",
       "18. 8\n",
       "19. 8\n",
       "20. 6\n",
       "21. 8\n",
       "\n",
       "\n"
      ],
      "text/plain": [
       " [1] 6 6 6 8 6 8 6 6 8 8 8 8 8 8 8 8 8 8 8 6 8"
      ]
     },
     "metadata": {},
     "output_type": "display_data"
    }
   ],
   "source": [
    "summary(mtcars)\n",
    "head(mtcars, 5)\n",
    "str(mtcars)\n",
    "# Hämta element 5 till 10 i cyl (cylinder) kolumnen\n",
    "mtcars$cyl[5:10]\n",
    "# Hämta alla värden i den kolumnen som är lika med eller större än 6\n",
    "mtcars$cyl[mtcars$cyl >= 6] "
   ]
  },
  {
   "cell_type": "markdown",
   "id": "47e2ef28-5814-4bd2-8417-2ef05cfac845",
   "metadata": {},
   "source": [
    "<h2>4 Analys av data frame: mtcars</h2>"
   ]
  },
  {
   "cell_type": "code",
   "execution_count": 127,
   "id": "c34b58ee-6955-474c-a6dc-30ec6909a825",
   "metadata": {},
   "outputs": [],
   "source": [
    "data(mtcars)"
   ]
  },
  {
   "cell_type": "markdown",
   "id": "78070532-ab14-499b-bb37-6cef5b7ab79c",
   "metadata": {},
   "source": [
    "<h2>4.1 Deskriptiv statistik</h2>"
   ]
  },
  {
   "cell_type": "code",
   "execution_count": 128,
   "id": "f01508c1-6db5-49ca-89a9-eb7ab471278f",
   "metadata": {},
   "outputs": [
    {
     "data": {
      "text/plain": [
       "      mpg             cyl             disp             hp       \n",
       " Min.   :10.40   Min.   :4.000   Min.   : 71.1   Min.   : 52.0  \n",
       " 1st Qu.:15.43   1st Qu.:4.000   1st Qu.:120.8   1st Qu.: 96.5  \n",
       " Median :19.20   Median :6.000   Median :196.3   Median :123.0  \n",
       " Mean   :20.09   Mean   :6.188   Mean   :230.7   Mean   :146.7  \n",
       " 3rd Qu.:22.80   3rd Qu.:8.000   3rd Qu.:326.0   3rd Qu.:180.0  \n",
       " Max.   :33.90   Max.   :8.000   Max.   :472.0   Max.   :335.0  \n",
       "      drat             wt             qsec             vs        \n",
       " Min.   :2.760   Min.   :1.513   Min.   :14.50   Min.   :0.0000  \n",
       " 1st Qu.:3.080   1st Qu.:2.581   1st Qu.:16.89   1st Qu.:0.0000  \n",
       " Median :3.695   Median :3.325   Median :17.71   Median :0.0000  \n",
       " Mean   :3.597   Mean   :3.217   Mean   :17.85   Mean   :0.4375  \n",
       " 3rd Qu.:3.920   3rd Qu.:3.610   3rd Qu.:18.90   3rd Qu.:1.0000  \n",
       " Max.   :4.930   Max.   :5.424   Max.   :22.90   Max.   :1.0000  \n",
       "       am              gear            carb      \n",
       " Min.   :0.0000   Min.   :3.000   Min.   :1.000  \n",
       " 1st Qu.:0.0000   1st Qu.:3.000   1st Qu.:2.000  \n",
       " Median :0.0000   Median :4.000   Median :2.000  \n",
       " Mean   :0.4062   Mean   :3.688   Mean   :2.812  \n",
       " 3rd Qu.:1.0000   3rd Qu.:4.000   3rd Qu.:4.000  \n",
       " Max.   :1.0000   Max.   :5.000   Max.   :8.000  "
      ]
     },
     "metadata": {},
     "output_type": "display_data"
    }
   ],
   "source": [
    "summary(mtcars)"
   ]
  },
  {
   "cell_type": "code",
   "execution_count": 140,
   "id": "4f25f858-58f9-4b2d-b3ca-aac7e84dbe97",
   "metadata": {},
   "outputs": [
    {
     "data": {
      "text/html": [
       "146.6875"
      ],
      "text/latex": [
       "146.6875"
      ],
      "text/markdown": [
       "146.6875"
      ],
      "text/plain": [
       "[1] 146.6875"
      ]
     },
     "metadata": {},
     "output_type": "display_data"
    },
    {
     "data": {
      "text/html": [
       "123"
      ],
      "text/latex": [
       "123"
      ],
      "text/markdown": [
       "123"
      ],
      "text/plain": [
       "[1] 123"
      ]
     },
     "metadata": {},
     "output_type": "display_data"
    },
    {
     "data": {
      "text/html": [
       "<dl class=dl-horizontal>\n",
       "\t<dt>0%</dt>\n",
       "\t\t<dd>1.513</dd>\n",
       "\t<dt>25%</dt>\n",
       "\t\t<dd>2.58125</dd>\n",
       "\t<dt>50%</dt>\n",
       "\t\t<dd>3.325</dd>\n",
       "\t<dt>75%</dt>\n",
       "\t\t<dd>3.61</dd>\n",
       "\t<dt>100%</dt>\n",
       "\t\t<dd>5.424</dd>\n",
       "</dl>\n"
      ],
      "text/latex": [
       "\\begin{description*}\n",
       "\\item[0\\textbackslash{}\\%] 1.513\n",
       "\\item[25\\textbackslash{}\\%] 2.58125\n",
       "\\item[50\\textbackslash{}\\%] 3.325\n",
       "\\item[75\\textbackslash{}\\%] 3.61\n",
       "\\item[100\\textbackslash{}\\%] 5.424\n",
       "\\end{description*}\n"
      ],
      "text/markdown": [
       "0%\n",
       ":   1.51325%\n",
       ":   2.5812550%\n",
       ":   3.32575%\n",
       ":   3.61100%\n",
       ":   5.424\n",
       "\n"
      ],
      "text/plain": [
       "     0%     25%     50%     75%    100% \n",
       "1.51300 2.58125 3.32500 3.61000 5.42400 "
      ]
     },
     "metadata": {},
     "output_type": "display_data"
    },
    {
     "data": {
      "text/html": [
       "33.9"
      ],
      "text/latex": [
       "33.9"
      ],
      "text/markdown": [
       "33.9"
      ],
      "text/plain": [
       "[1] 33.9"
      ]
     },
     "metadata": {},
     "output_type": "display_data"
    }
   ],
   "source": [
    "# attach(mtcars) kan användas för att förkorta referenserna till variablerna inom mtcars, ex. genom mean(hp) ist. för mean(mtcars$hp)\n",
    "mean(mtcars$hp)\n",
    "median(mtcars$hp)\n",
    "quantile(mtcars$wt)\n",
    "max(mtcars$mpg) "
   ]
  },
  {
   "cell_type": "markdown",
   "id": "b5911043-7f0e-4246-9be6-71a8a2b04ac7",
   "metadata": {},
   "source": [
    "<h2>4.2 Visualisering av data</h2>"
   ]
  },
  {
   "cell_type": "markdown",
   "id": "b8cbf3d7-3f0c-4bb9-a316-324d51b47b3a",
   "metadata": {},
   "source": [
    "<h3>Histogram</h3>"
   ]
  },
  {
   "cell_type": "code",
   "execution_count": 145,
   "id": "d0df2cad-5e57-4f9c-877a-67a9ac6954d2",
   "metadata": {},
   "outputs": [
    {
     "data": {
      "image/png": "[encoded data removed]",
      "text/plain": [
       "Plot with title \"Histogram of wt\""
      ]
     },
     "metadata": {},
     "output_type": "display_data"
    }
   ],
   "source": [
    "# The option freq=FALSE plots probability densities instead of frequencies\n",
    "par(mfrow=c(1,2)); hist(mpg); hist(wt)"
   ]
  },
  {
   "cell_type": "markdown",
   "id": "2b6b289b-835f-4cfa-b068-3d34f0501952",
   "metadata": {},
   "source": [
    "<h3>Lådagram (boxplots)</h3>"
   ]
  },
  {
   "cell_type": "code",
   "execution_count": 149,
   "id": "1de435e8-358b-4a8e-a16e-237fad43f76b",
   "metadata": {},
   "outputs": [
    {
     "data": {
      "image/png": "[encoded data removed]",
      "text/plain": [
       "plot without title"
      ]
     },
     "metadata": {},
     "output_type": "display_data"
    }
   ],
   "source": [
    "par(mfrow=c(1,2)); boxplot(mpg); boxplot(wt)\n"
   ]
  },
  {
   "cell_type": "markdown",
   "id": "2117735c-6bb6-4ccb-8805-bd0972d342c8",
   "metadata": {},
   "source": [
    "<h3>Spridningsdiagram (scatterplots)</h3>"
   ]
  },
  {
   "cell_type": "code",
   "execution_count": 151,
   "id": "a81aaf24-e70c-4f5a-bbf9-5f346827572f",
   "metadata": {},
   "outputs": [
    {
     "data": {
      "image/png": "[encoded data removed]",
      "text/plain": [
       "plot without title"
      ]
     },
     "metadata": {},
     "output_type": "display_data"
    }
   ],
   "source": [
    "plot(wt,mpg)\n",
    "# Abskissan = x-axeln (abscissa)\n",
    "# Ordinatan = y-axeln (ordinate)"
   ]
  },
  {
   "cell_type": "markdown",
   "id": "1585521b-3bd4-4136-b568-9b8e07edf179",
   "metadata": {},
   "source": [
    "<h3>Övningar</h3>\n",
    "<p>\n",
    "• Rita histogram för variablerna hp  och qsec.\n",
    "<br>\n",
    "• Rita lådagram för variablerna hp   och qsec.\n",
    "<br>\n",
    "• Rita spridningsdiagram för variablerna hp  och qsec.\n",
    "</p>"
   ]
  },
  {
   "cell_type": "code",
   "execution_count": 158,
   "id": "48cd2518-80f1-4a7f-b6c1-c4cb325b62e8",
   "metadata": {},
   "outputs": [
    {
     "data": {
      "image/png": "[encoded data removed]",
      "text/plain": [
       "Plot with title \"Histogram of qsec\""
      ]
     },
     "metadata": {},
     "output_type": "display_data"
    }
   ],
   "source": [
    "par(mfrow=c(1,2)); hist(hp); hist(qsec)"
   ]
  },
  {
   "cell_type": "code",
   "execution_count": 159,
   "id": "c4e173bd-e599-4edb-ae22-bc1098a4690b",
   "metadata": {},
   "outputs": [
    {
     "data": {
      "image/png": "[encoded data removed]",
      "text/plain": [
       "plot without title"
      ]
     },
     "metadata": {},
     "output_type": "display_data"
    }
   ],
   "source": [
    "par(mfrow=c(1,2)); boxplot(hp); boxplot(qsec)"
   ]
  },
  {
   "cell_type": "code",
   "execution_count": 160,
   "id": "4e9229ff-d24c-47ae-bb75-08cc51f1a9c5",
   "metadata": {},
   "outputs": [
    {
     "data": {
      "image/png": "[encoded data removed]",
      "text/plain": [
       "plot without title"
      ]
     },
     "metadata": {},
     "output_type": "display_data"
    }
   ],
   "source": [
    "plot(hp, qsec)"
   ]
  },
  {
   "cell_type": "markdown",
   "id": "4110761d-06d8-4f0f-9316-fc106990145b",
   "metadata": {},
   "source": [
    "<h3>Ytterligare diagram</h3>"
   ]
  },
  {
   "cell_type": "code",
   "execution_count": 164,
   "id": "60b94045-3948-40e3-956a-047f3947bf6d",
   "metadata": {},
   "outputs": [
    {
     "data": {
      "image/png": "[encoded data removed]",
      "text/plain": [
       "plot without title"
      ]
     },
     "metadata": {},
     "output_type": "display_data"
    },
    {
     "data": {
      "image/png": "[encoded data removed]",
      "text/plain": [
       "plot without title"
      ]
     },
     "metadata": {},
     "output_type": "display_data"
    }
   ],
   "source": [
    "# Stolpdiagram (barplot)\n",
    "barplot(hp, qsec)\n",
    "\n",
    "# Tårtdiagram (pie)\n",
    "pie(hp, qsec)"
   ]
  },
  {
   "cell_type": "code",
   "execution_count": 165,
   "id": "c3753a5d-6850-4ea8-a443-1a5e53ac1d3d",
   "metadata": {},
   "outputs": [
    {
     "data": {
      "image/png": "[encoded data removed]",
      "text/plain": [
       "Plot with title \"ecdf(x)\""
      ]
     },
     "metadata": {},
     "output_type": "display_data"
    }
   ],
   "source": [
    "plot.ecdf(rnorm(200))"
   ]
  }
 ],
 "metadata": {
  "kernelspec": {
   "display_name": "R",
   "language": "R",
   "name": "ir"
  },
  "language_info": {
   "codemirror_mode": "r",
   "file_extension": ".r",
   "mimetype": "text/x-r-source",
   "name": "R",
   "pygments_lexer": "r",
   "version": "3.6.1"
  }
 },
 "nbformat": 4,
 "nbformat_minor": 5
}
