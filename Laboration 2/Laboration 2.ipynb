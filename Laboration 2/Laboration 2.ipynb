{
 "cells": [
  {
   "cell_type": "markdown",
   "id": "804e55cc-c7d1-498b-82ac-b466446d7990",
   "metadata": {},
   "source": [
    "<h1>Laboration 2 (GST2CL)</h1>"
   ]
  },
  {
   "cell_type": "code",
   "execution_count": 13,
   "id": "32e7d6a7-abbc-48b0-97ae-e780bb2ed473",
   "metadata": {
    "tags": []
   },
   "outputs": [
    {
     "data": {
      "text/html": [
       "'C:/Users/Phili/OneDrive/Högskolan/Årskurs 2/Statistisk analys - GST2CL/Laborationer/Laboration 2'"
      ],
      "text/latex": [
       "'C:/Users/Phili/OneDrive/Högskolan/Årskurs 2/Statistisk analys - GST2CL/Laborationer/Laboration 2'"
      ],
      "text/markdown": [
       "'C:/Users/Phili/OneDrive/Högskolan/Årskurs 2/Statistisk analys - GST2CL/Laborationer/Laboration 2'"
      ],
      "text/plain": [
       "[1] \"C:/Users/Phili/OneDrive/Högskolan/Årskurs 2/Statistisk analys - GST2CL/Laborationer/Laboration 2\""
      ]
     },
     "metadata": {},
     "output_type": "display_data"
    }
   ],
   "source": [
    "setwd('C:/Users/Phili/OneDrive/Högskolan/Årskurs 2/Statistisk analys - GST2CL/Laborationer/Laboration 2/')\n",
    "getwd()"
   ]
  },
  {
   "cell_type": "markdown",
   "id": "53ba62dc-be9c-4919-a7ba-8207443c46b9",
   "metadata": {},
   "source": [
    "------------------------------------------------------------------------------------------------------------------------------------------------------------------------"
   ]
  },
  {
   "cell_type": "markdown",
   "id": "959a6b26-7ebe-43fc-844e-c26c0a8cc426",
   "metadata": {
    "tags": []
   },
   "source": [
    "<h2>1 Konfidensintervall och test</h2>"
   ]
  },
  {
   "cell_type": "markdown",
   "id": "d769b189-0965-4952-b1b9-49fd23aaadc0",
   "metadata": {},
   "source": [
    "------------------------------------------------------------------------------------------------------------------------------------------------------------------------"
   ]
  },
  {
   "cell_type": "markdown",
   "id": "73fd239e-9310-4a81-9f33-41ca78f0c14c",
   "metadata": {},
   "source": [
    "<h2>1.1 Konfidensintervall för väntevärden</h2>"
   ]
  },
  {
   "cell_type": "markdown",
   "id": "f3e2e245-bb73-4f3c-9cc9-f90b2cb868fd",
   "metadata": {},
   "source": [
    "<h3>1.1.1 Normalfördelning (σ är känd)</h3>"
   ]
  },
  {
   "cell_type": "markdown",
   "id": "0fbf7ec6-e407-4b70-b027-2b2865cfb3e7",
   "metadata": {},
   "source": [
    "<p><b>Exempel:</b> Ett företag observerar antalet inkommande e-mail på 8 slumpmässigt \n",
    "valde dagar. Resultatet blev 141, 150, 163, 139, 175, 174, 173 och 135 e-mail. \n",
    "Av erfarenhet vet man att antalet inkommande mail per dag är en \n",
    "approximativt normalfördelad variabel med standardavvikelsen 17. Beräkna ett \n",
    "95% konfidensintervall för sanna medelvärdet för antalet inkommande mail.</p>"
   ]
  },
  {
   "cell_type": "code",
   "execution_count": 8,
   "id": "4414bc6b-b929-4a80-a2ec-af878a07dda3",
   "metadata": {},
   "outputs": [
    {
     "data": {
      "text/html": [
       "144.469817493028"
      ],
      "text/latex": [
       "144.469817493028"
      ],
      "text/markdown": [
       "144.469817493028"
      ],
      "text/plain": [
       "[1] 144.4698"
      ]
     },
     "metadata": {},
     "output_type": "display_data"
    },
    {
     "data": {
      "text/html": [
       "168.030182506972"
      ],
      "text/latex": [
       "168.030182506972"
      ],
      "text/markdown": [
       "168.030182506972"
      ],
      "text/plain": [
       "[1] 168.0302"
      ]
     },
     "metadata": {},
     "output_type": "display_data"
    }
   ],
   "source": [
    "n <- 8\n",
    "stickprov_1 <- c(141, 150, 163, 139, 175, 174, 173, 135)\n",
    "sigma <- 17\n",
    "stickprov_1_mean <- mean(stickprov_1)\n",
    "alpha_half <- qnorm(0.975)\n",
    "me <- alpha_half * (sigma/sqrt(n))\n",
    "stickprov_1_mean - me # lägre/vänstra gränsen\n",
    "stickprov_1_mean + me # högre/högra gränsen"
   ]
  },
  {
   "cell_type": "markdown",
   "id": "01b5f8b5-89cb-426f-a10a-8426a9889e45",
   "metadata": {},
   "source": [
    "<b>Svar:</b> [144.46981 , 168.03018]"
   ]
  },
  {
   "cell_type": "markdown",
   "id": "74322abc-eb4a-4022-b820-fb6490c77d78",
   "metadata": {},
   "source": [
    "<h3>1.1.2 Normalfördelning (σ är okänd)</h3>"
   ]
  },
  {
   "cell_type": "markdown",
   "id": "8a4aa9d1-ecc0-489d-bc85-ed2bcb4af43a",
   "metadata": {},
   "source": [
    "<b>Exempel:</b> Ur en sjö har man tagit 8 vattenprover och mätt pH-värdena i dessa. Mata in \n",
    "data för hand och lagra i en vektor kallad stickprov2: "
   ]
  },
  {
   "cell_type": "code",
   "execution_count": 24,
   "id": "8be8ed51-9682-4986-a07d-6d9a8906be18",
   "metadata": {},
   "outputs": [],
   "source": [
    "stickprov2 <- c(7.3,7.5,6.8,7.1,6.9,7.2,7.0,6.5)"
   ]
  },
  {
   "cell_type": "markdown",
   "id": "d09460ae-8e1a-46a2-8e46-6096e2223888",
   "metadata": {},
   "source": [
    "Gör ett antagande om normalfördelning. Med datorns hjälp är det enkelt att göra  en \n",
    "snabb kontroll av rimligheten om normal fördelning, rita helt enkelt ett histogram och \n",
    "se efter om det åtminstone indikerar en symmetrisk spridning (men det kan vara svårt \n",
    "att bedöma med så pass få observationer):"
   ]
  },
  {
   "cell_type": "code",
   "execution_count": 4,
   "id": "83f599b7-8cc2-4606-bc1b-d9d79f5bb4e7",
   "metadata": {},
   "outputs": [
    {
     "ename": "ERROR",
     "evalue": "Error in hist(stickprov2): object 'stickprov2' not found\n",
     "output_type": "error",
     "traceback": [
      "Error in hist(stickprov2): object 'stickprov2' not found\nTraceback:\n",
      "1. hist(stickprov2)"
     ]
    }
   ],
   "source": [
    "hist(stickprov2)"
   ]
  },
  {
   "cell_type": "markdown",
   "id": "3f37c53d-d0e0-40ba-a611-b05e2ff6b778",
   "metadata": {
    "tags": []
   },
   "source": [
    "Vi ska nu med hjälp av några få kommandon i R skapa ett 95% konfidensintervall för \n",
    "det  genomsnittliga  pH-värdet.  Standardavvikelse  är  okänd.\n",
    "Det finns två sätt att numeriskt angripa detta: \n",
    "1) Skriv in intervallet ovan manuellt \n",
    "2) Använd en färdig rutin (vid namn t.test) "
   ]
  },
  {
   "cell_type": "code",
   "execution_count": 30,
   "id": "10027ad6-7e11-468b-af69-17ca63b85539",
   "metadata": {
    "tags": []
   },
   "outputs": [
    {
     "data": {
      "text/html": [
       "6.77717070204203"
      ],
      "text/latex": [
       "6.77717070204203"
      ],
      "text/markdown": [
       "6.77717070204203"
      ],
      "text/plain": [
       "[1] 6.777171"
      ]
     },
     "metadata": {},
     "output_type": "display_data"
    },
    {
     "data": {
      "text/html": [
       "7.29782929795797"
      ],
      "text/latex": [
       "7.29782929795797"
      ],
      "text/markdown": [
       "7.29782929795797"
      ],
      "text/plain": [
       "[1] 7.297829"
      ]
     },
     "metadata": {},
     "output_type": "display_data"
    }
   ],
   "source": [
    "# Alternativ 1\n",
    "mv <- mean(stickprov2)  \n",
    "stad <- sd(stickprov2)  \n",
    "n <- 8 \n",
    "tfaktor <- qt(0.975, n-1)  \n",
    "mv - tfaktor*stad/sqrt(n)  \n",
    "mv + tfaktor*stad/sqrt(n) "
   ]
  },
  {
   "cell_type": "code",
   "execution_count": 32,
   "id": "dca4e80c-3cc6-469e-a2cf-ac9c36935f9a",
   "metadata": {},
   "outputs": [
    {
     "data": {
      "text/plain": [
       "\n",
       "\tOne Sample t-test\n",
       "\n",
       "data:  stickprov2\n",
       "t = 63.923, df = 7, p-value = 6.024e-11\n",
       "alternative hypothesis: true mean is not equal to 0\n",
       "95 percent confidence interval:\n",
       " 6.777171 7.297829\n",
       "sample estimates:\n",
       "mean of x \n",
       "   7.0375 \n"
      ]
     },
     "metadata": {},
     "output_type": "display_data"
    }
   ],
   "source": [
    "# Alternativ 2\n",
    "t.test(stickprov2)"
   ]
  },
  {
   "cell_type": "markdown",
   "id": "9fe3ee3b-0d64-4055-bf71-97238bf7b368",
   "metadata": {},
   "source": [
    "<h2>1.2 Konfidensintervall för väntevärdesskillnad</h2>"
   ]
  },
  {
   "cell_type": "markdown",
   "id": "610ab504-5e9a-48b2-91b7-0a5dd6061952",
   "metadata": {},
   "source": [
    "Tryckhållfastheten  för  två  olika  betongblandningar,  av  typen  M20  respektive  M25  ska \n",
    "jämföras. Räkna  ut  medelvärde  för  respektive  datamaterial  och  rita  lådagram  med \n",
    "boxplot  för  att  undersöka  om  det  verkar  finnas  någon  skillnad  mellan  väntevärdet \n",
    "(μM20 respektive μM25) för tryckhållfastheten för de två blandningarna. "
   ]
  },
  {
   "cell_type": "code",
   "execution_count": 10,
   "id": "8e9e4ce9-6b49-432e-b427-25e6d63b4b36",
   "metadata": {},
   "outputs": [],
   "source": [
    "M20<-c(35.50,  27.80,  35.80,  30.10,  27.60,  32.45,  30.20, 26.85, \n",
    "31.10,  19.20,  25.86,  31.20,  25.60,  31.15,  35.80, 27.50, \n",
    "28.73,  23.20,  18.95,  24.50,  22.45,  29.80,  35.65, 30.80, \n",
    "24.01,  25.25,  27.55,  30.15,  24.50,  22.60)    \n",
    "         \n",
    "M25<-c(31.20,  35.86,  31.00,  39.01,  35.60,  38.00,  29.68, 27.26, \n",
    "30.88,  35.50,  28.88,  38.50,  27.60,  26.00,  37.10, 30.80, \n",
    "34.45,  38.00,  33.51,  35.80,  31.20,  36.52,  29.82, 37.80, \n",
    "35.01,  36.60,  32.25,  31.50,  28.65,  27.55)"
   ]
  },
  {
   "cell_type": "markdown",
   "id": "51bf951e-cff5-4e54-8370-3f41b78aee20",
   "metadata": {},
   "source": [
    "Ett 99 % konfidensintervall för väntevärdesskillnaden μM25 − μM20 ges av:"
   ]
  },
  {
   "cell_type": "code",
   "execution_count": 11,
   "id": "33ddc1e6-d897-408f-9b36-dd811d24e118",
   "metadata": {},
   "outputs": [
    {
     "data": {
      "text/html": [
       "28.0616666666667"
      ],
      "text/latex": [
       "28.0616666666667"
      ],
      "text/markdown": [
       "28.0616666666667"
      ],
      "text/plain": [
       "[1] 28.06167"
      ]
     },
     "metadata": {},
     "output_type": "display_data"
    },
    {
     "data": {
      "text/html": [
       "33.051"
      ],
      "text/latex": [
       "33.051"
      ],
      "text/markdown": [
       "33.051"
      ],
      "text/plain": [
       "[1] 33.051"
      ]
     },
     "metadata": {},
     "output_type": "display_data"
    },
    {
     "data": {
      "text/plain": [
       "\n",
       "\tWelch Two Sample t-test\n",
       "\n",
       "data:  M25 and M20\n",
       "t = 4.5385, df = 56.408, p-value = 3.017e-05\n",
       "alternative hypothesis: true difference in means is not equal to 0\n",
       "99 percent confidence interval:\n",
       " 2.058677 7.919989\n",
       "sample estimates:\n",
       "mean of x mean of y \n",
       " 33.05100  28.06167 \n"
      ]
     },
     "metadata": {},
     "output_type": "display_data"
    },
    {
     "data": {
      "image/png": "[encoded data removed]",
      "text/plain": [
       "plot without title"
      ]
     },
     "metadata": {},
     "output_type": "display_data"
    }
   ],
   "source": [
    "mean(M20) \n",
    "mean(M25) \n",
    "par(mfrow=c(1,2))  \n",
    "boxplot(M20) \n",
    "boxplot(M25) \n",
    "t.test (M25,M20, conf.level=0.99)"
   ]
  },
  {
   "cell_type": "markdown",
   "id": "cac73a57-50f0-4840-9638-a0e275246628",
   "metadata": {},
   "source": [
    "<h2>1.3 Konfidensintervall för andel</h2>"
   ]
  },
  {
   "cell_type": "markdown",
   "id": "3b4238f9-2c02-4e09-9618-7930c49fabb0",
   "metadata": {},
   "source": [
    "<b>Exempel:</b> I en by, ett slumpmässigt urval om 1000 av dessa tillfrågas om sina \n",
    "partisympatier, och 520 av dessa angav att de var moderater. Ange ett 95% \n",
    "konfidensintervall för den sanna andelen moderater i byn."
   ]
  },
  {
   "cell_type": "code",
   "execution_count": 30,
   "id": "25de7e0d-a578-4d4d-9b33-bce0f4442b2b",
   "metadata": {},
   "outputs": [
    {
     "data": {
      "text/plain": [
       "\n",
       "\t1-sample proportions test without continuity correction\n",
       "\n",
       "data:  x out of n, null probability 0.5\n",
       "X-squared = 1.6, df = 1, p-value = 0.2059\n",
       "alternative hypothesis: true p is not equal to 0.5\n",
       "95 percent confidence interval:\n",
       " 0.4890177 0.5508292\n",
       "sample estimates:\n",
       "   p \n",
       "0.52 \n"
      ]
     },
     "metadata": {},
     "output_type": "display_data"
    }
   ],
   "source": [
    "# Alternativ 1: prop.test() från paketet stats \n",
    "x <- 520 \n",
    "n <- 1000  \n",
    "prop.test(x, n, conf.level=0.95, correct = FALSE)  \n",
    "# du kan skriva värde av x and n direkt"
   ]
  },
  {
   "cell_type": "markdown",
   "id": "85b13490-830c-4e62-8357-1f5c5687c4cb",
   "metadata": {},
   "source": [
    "<h2>1.4 Konfidensintervall för andelsskillnad</h2>"
   ]
  },
  {
   "cell_type": "markdown",
   "id": "c2d86e4e-904a-4b78-bd6f-6a8f2cab66e4",
   "metadata": {},
   "source": [
    "<b>Exempel:</b>  Var  det  rätt  låt  som  vann?  Denna  för  hela  nationen  så  viktiga  fråga  ställdes  av  en \n",
    "kvällstidning till ett slumpmässigt urval om 400 män och 600 kvinnor dagen efter den svenska \n",
    "uttagningen  till  Melodifestivalen.  Bland  männen  var  det  202  och  bland  kvinnorna  334  som \n",
    "svarade Ja. \n",
    "Uppskatta  skillnaden  mellan  männen  och  kvinnorna  i  hela  nationen  vad  gäller  andelen  Ja-\n",
    "svarare med ett intervall med konfidensgraden 95%. "
   ]
  },
  {
   "cell_type": "code",
   "execution_count": 29,
   "id": "d110da33-194b-4758-82b1-cfb02bbdc976",
   "metadata": {},
   "outputs": [
    {
     "data": {
      "text/plain": [
       "\n",
       "\t2-sample test for equality of proportions without continuity\n",
       "\tcorrection\n",
       "\n",
       "data:  x out of n\n",
       "X-squared = 2.576, df = 1, p-value = 0.1085\n",
       "alternative hypothesis: two.sided\n",
       "95 percent confidence interval:\n",
       " -0.11475962  0.01142629\n",
       "sample estimates:\n",
       "   prop 1    prop 2 \n",
       "0.5050000 0.5566667 \n"
      ]
     },
     "metadata": {},
     "output_type": "display_data"
    }
   ],
   "source": [
    "x <- c (202, 334) \n",
    "n <- c (400, 600) \n",
    "prop.test(x, n, conf.level=0.95, correct = FALSE) "
   ]
  },
  {
   "cell_type": "markdown",
   "id": "49d2e9ae-277f-4bb6-bf98-e8584aa10882",
   "metadata": {
    "tags": []
   },
   "source": [
    "------------------------------------------------------------------------------------------------------------------------------------------------------------------------"
   ]
  },
  {
   "cell_type": "markdown",
   "id": "d68ca7d3-16ad-429e-bf8e-97d36d412092",
   "metadata": {
    "tags": []
   },
   "source": [
    "<h2>2 R för att beräkna sannolikheter</h2> "
   ]
  },
  {
   "cell_type": "markdown",
   "id": "0e159c17-b17e-4111-8cbb-f14bb4bca4d3",
   "metadata": {},
   "source": [
    "------------------------------------------------------------------------------------------------------------------------------------------------------------------------"
   ]
  },
  {
   "cell_type": "markdown",
   "id": "b30aa50d-8c38-44af-8531-9492452fc4ff",
   "metadata": {},
   "source": [
    "Vi kan använda R för att beräkna P(X≤x) för dem flesta fördelningsfunktioner.  \n",
    "Normal fördelning: \n",
    "Om X∼N(mean,sd), vi får P(X≤x) med funktionen pnorm(x,mean,sd).  \n",
    "?pnorm() \n",
    " \n",
    "P(x < x1) = pnorm(x1, mean = μ, sd = σ, lower.tail=TRUE)  \n",
    "P(x > x2) = pnorm(x2, mean = μ, sd = σ, lower.tail=FALSE)  \n",
    "P(x2 < x < x1) = pnorm(x1, mean = μ, sd = σ, lower.tail=TRUE) - pnorm(x2, mean = μ, \n",
    "sd = σ, lower.tail=TRUE) "
   ]
  },
  {
   "cell_type": "markdown",
   "id": "aa4e1cbe-7ac2-473d-a6f3-3265fbd93f7e",
   "metadata": {},
   "source": [
    "<h3>2.1 Beräkna P(X≤1) om X∼N(1,1)</h3>"
   ]
  },
  {
   "cell_type": "code",
   "execution_count": 33,
   "id": "f3e9100c-30c3-4d8b-b193-43bb65c800e5",
   "metadata": {},
   "outputs": [
    {
     "data": {
      "text/html": [
       "0.5"
      ],
      "text/latex": [
       "0.5"
      ],
      "text/markdown": [
       "0.5"
      ],
      "text/plain": [
       "[1] 0.5"
      ]
     },
     "metadata": {},
     "output_type": "display_data"
    }
   ],
   "source": [
    "pnorm (1, mean=1, sd=1)"
   ]
  },
  {
   "cell_type": "markdown",
   "id": "de3402f0-58c9-4bd0-8bdd-3bb35831dcb9",
   "metadata": {},
   "source": [
    "<h3>2.2  Beräkna P(0.5≤X≤2) om X följer normalfördelning med väntevärde = 5, \n",
    "standardavvikelse = 2?</h3>"
   ]
  },
  {
   "cell_type": "code",
   "execution_count": 35,
   "id": "3d27b799-75cf-41a5-b7f6-8784a823b1dd",
   "metadata": {},
   "outputs": [
    {
     "data": {
      "text/html": [
       "0.0545827286138134"
      ],
      "text/latex": [
       "0.0545827286138134"
      ],
      "text/markdown": [
       "0.0545827286138134"
      ],
      "text/plain": [
       "[1] 0.05458273"
      ]
     },
     "metadata": {},
     "output_type": "display_data"
    }
   ],
   "source": [
    "pnorm(2, 5, 2, lower.tail=TRUE) - pnorm(0.5, 5, 2, lower.tail=TRUE)"
   ]
  },
  {
   "cell_type": "markdown",
   "id": "9c7384db-632a-40a8-ab7e-115c38117871",
   "metadata": {},
   "source": [
    "<h3>2.3  Beräkna P(X > 19) om X ∼ (17.46, 375.67)?</h3>"
   ]
  },
  {
   "cell_type": "code",
   "execution_count": 36,
   "id": "3b09dfb2-f51d-44d3-94cc-11f953b5ba98",
   "metadata": {},
   "outputs": [
    {
     "data": {
      "text/html": [
       "0.468335635789911"
      ],
      "text/latex": [
       "0.468335635789911"
      ],
      "text/markdown": [
       "0.468335635789911"
      ],
      "text/plain": [
       "[1] 0.4683356"
      ]
     },
     "metadata": {},
     "output_type": "display_data"
    },
    {
     "data": {
      "text/html": [
       "0.468335635789911"
      ],
      "text/latex": [
       "0.468335635789911"
      ],
      "text/markdown": [
       "0.468335635789911"
      ],
      "text/plain": [
       "[1] 0.4683356"
      ]
     },
     "metadata": {},
     "output_type": "display_data"
    }
   ],
   "source": [
    "pnorm(19, 17.46, sqrt(375.67), lower.tail=FALSE) \n",
    " \n",
    "# eller pga. normal fördelning är symmetrisk, vi kan köra alternative \n",
    "# P(X > 19) = 1- P(X≤ 19) \n",
    "1 - pnorm(19, mean=17.46, sd=sqrt(375.67))"
   ]
  },
  {
   "cell_type": "markdown",
   "id": "e30352eb-77dd-4778-b1cf-d422eb1acf16",
   "metadata": {},
   "source": [
    "------------------------------------------------------------------------------------------------------------------------------------------------------------------------"
   ]
  },
  {
   "cell_type": "markdown",
   "id": "6e36349e-fb21-42e5-920c-a85ea195835a",
   "metadata": {
    "tags": []
   },
   "source": [
    "<h2>3 χ2-test</h2>"
   ]
  },
  {
   "cell_type": "markdown",
   "id": "309c2497-96cf-4f28-8020-296aac51be9c",
   "metadata": {},
   "source": [
    "------------------------------------------------------------------------------------------------------------------------------------------------------------------------"
   ]
  },
  {
   "cell_type": "markdown",
   "id": "dcdedc16-52b9-42c8-a18d-d591e2445f1d",
   "metadata": {},
   "source": [
    "Vid ett korsningsförsök med en viss blomma förekommer färgerna lila, röd och vit. Enligt en genetisk teori \n",
    "som  bygger  på  vissa antaganden ska färgerna  förekomma  i  proportionerna 27 : 9 : 28. Detta medför \n",
    "att:\n",
    "<br>\n",
    "p1 = P(lilafärgad blomma) = 27 / (27 + 9 + 28) = 27/64\n",
    "<br>\n",
    "och analogt gäller p2 = 9/64 och p3 = 28/64 för röd resp. vit avkomma.\n",
    "<br>\n",
    "Se formel i labbinstruktioner."
   ]
  },
  {
   "cell_type": "code",
   "execution_count": 1,
   "id": "0ec577b8-103f-4bbe-afe1-0e995123e47e",
   "metadata": {},
   "outputs": [
    {
     "data": {
      "text/plain": [
       "\n",
       "\tChi-squared test for given probabilities\n",
       "\n",
       "data:  blomfarg\n",
       "X-squared = 21.072, df = 2, p-value = 2.656e-05\n"
      ]
     },
     "metadata": {},
     "output_type": "display_data"
    }
   ],
   "source": [
    "blomfarg  <-c(158,19,123); \n",
    " ph0 <-c(27/64,9/64,28/64); \n",
    "chisq.test(blomfarg, p=ph0) "
   ]
  },
  {
   "cell_type": "markdown",
   "id": "edcdc4bf-f63d-4384-8e36-dcaefa9356e2",
   "metadata": {},
   "source": [
    "------------------------------------------------------------------------------------------------------------------------------------------------------------------------"
   ]
  },
  {
   "cell_type": "markdown",
   "id": "d47bb8df-a4e6-4363-87e4-d7ff7f137a2e",
   "metadata": {},
   "source": [
    "<h2>4 Läs in/Importera data </h2>"
   ]
  },
  {
   "cell_type": "markdown",
   "id": "8aa3d474-bd01-4fb9-8d75-afef28fd31c8",
   "metadata": {},
   "source": [
    "------------------------------------------------------------------------------------------------------------------------------------------------------------------------"
   ]
  },
  {
   "cell_type": "code",
   "execution_count": null,
   "id": "fe2df8b0-5f0e-4d54-ad31-292101a8d11c",
   "metadata": {},
   "outputs": [],
   "source": [
    "# TXT\n",
    "#importera filen Table.txt \n",
    "Tdata<- read.table(\"Table.txt\")\n",
    "\n",
    "# CSV\n",
    "#importera filen esoph.csv \n",
    "Cdata<- read.csv(\"esoph.csv\", header = FALSE, sep = \",\")\n",
    "\n",
    "# EXCEL\n",
    "install.packages(\"readxl\") \n",
    "library(\"readxl\") \n",
    "Edata1<- read_excel(\"Adata.xls\", sheet = 1) \n",
    "#OR  \n",
    "Edata1<-  read.xlsx(\"Adata.xls\",1)"
   ]
  }
 ],
 "metadata": {
  "kernelspec": {
   "display_name": "R",
   "language": "R",
   "name": "ir"
  },
  "language_info": {
   "codemirror_mode": "r",
   "file_extension": ".r",
   "mimetype": "text/x-r-source",
   "name": "R",
   "pygments_lexer": "r",
   "version": "3.6.1"
  }
 },
 "nbformat": 4,
 "nbformat_minor": 5
}
